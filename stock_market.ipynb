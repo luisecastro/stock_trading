{
 "cells": [
  {
   "cell_type": "markdown",
   "metadata": {
    "colab_type": "text",
    "id": "kR-4eNdK6lYS"
   },
   "source": [
    "Stock Market\n",
    "============="
   ]
  },
  {
   "cell_type": "markdown",
   "metadata": {
    "cellView": "both",
    "colab": {
     "autoexec": {
      "startup": false,
      "wait_interval": 0
     }
    },
    "colab_type": "code",
    "collapsed": true,
    "id": "JLpLa8Jt7Vu4"
   },
   "source": [
    "Step 1: Define a function to access Yahoo Finance API and extract the information for the stocks and dates requered, then store them as a csv file in the stock directory."
   ]
  },
  {
   "cell_type": "code",
   "execution_count": 7,
   "metadata": {
    "cellView": "both",
    "colab": {
     "autoexec": {
      "startup": false,
      "wait_interval": 0
     },
     "output_extras": [
      {
       "item_id": 1
      }
     ]
    },
    "colab_type": "code",
    "collapsed": false,
    "executionInfo": {
     "elapsed": 19456,
     "status": "ok",
     "timestamp": 1449847956073,
     "user": {
      "color": "",
      "displayName": "",
      "isAnonymous": false,
      "isMe": true,
      "permissionId": "",
      "photoUrl": "",
      "sessionId": "0",
      "userId": ""
     },
     "user_tz": 480
    },
    "id": "y3-cj1bpmuxc",
    "outputId": "0ddb1607-1fc4-4ddb-de28-6c7ab7fb0c33"
   },
   "outputs": [],
   "source": [
    "import yahoo_finance\n",
    "import csv\n",
    "\n",
    "columns = ['volume','symbol','adj_close','high','low','date','close','open']\n",
    "\n",
    "def stock_dl(symbol,start,end):\n",
    "    for j in symbol:\n",
    "        stock = yahoo_finance.Share(j)\n",
    "        history = stock.get_historical(start,end)\n",
    "\n",
    "        with open(\"stock/{}.csv\".format(j), \"w\") as toWrite:\n",
    "            writer = csv.writer(toWrite,delimiter=\",\")\n",
    "            writer.writerow(columns)\n",
    "            for i in history:\n",
    "                temp = []\n",
    "                for a in i.keys():\n",
    "                    temp.append(i[a])\n",
    "                writer.writerow(temp)"
   ]
  },
  {
   "cell_type": "markdown",
   "metadata": {
    "colab_type": "text",
    "id": "L7aHrm6nGDMB"
   },
   "source": [
    "Step 2: Run the previous function suplying the needed parameters. We will check major Tech companies and the SPY as baseline, use 5 years of data."
   ]
  },
  {
   "cell_type": "code",
   "execution_count": 8,
   "metadata": {
    "cellView": "both",
    "colab": {
     "autoexec": {
      "startup": false,
      "wait_interval": 0
     },
     "output_extras": [
      {
       "item_id": 1
      }
     ]
    },
    "colab_type": "code",
    "collapsed": false,
    "executionInfo": {
     "elapsed": 19723,
     "status": "ok",
     "timestamp": 1449847956364,
     "user": {
      "color": "",
      "displayName": "",
      "isAnonymous": false,
      "isMe": true,
      "permissionId": "",
      "photoUrl": "",
      "sessionId": "0",
      "userId": ""
     },
     "user_tz": 480
    },
    "id": "IRSyYiIIGIzS",
    "outputId": "2ba0fc75-1487-4ace-a562-cf81cae82793"
   },
   "outputs": [],
   "source": [
    "symbols = ['SPY','GOOGL','AAPL','TSLA','FB','MSFT']\n",
    "start = '2011-09-22'\n",
    "end = '2016-09-22'\n",
    "\n",
    "stock_dl(symbol=symbols,start=start,end=end)"
   ]
  },
  {
   "cell_type": "markdown",
   "metadata": {
    "colab_type": "text",
    "id": "nCLVqyQ5vPPH"
   },
   "source": [
    "Step 3: Read csv files and store as pandas data frames, select subsets of data if needed."
   ]
  },
  {
   "cell_type": "code",
   "execution_count": 19,
   "metadata": {
    "cellView": "both",
    "colab": {
     "autoexec": {
      "startup": false,
      "wait_interval": 0
     }
    },
    "colab_type": "code",
    "collapsed": false,
    "id": "Nfv39qvtvOl_"
   },
   "outputs": [
    {
     "name": "stdout",
     "output_type": "stream",
     "text": [
      "             SPY_volume SPY_symbol  SPY_adj_close    SPY_high     SPY_low  \\\n",
      "2011-09-22  513911300.0        SPY     101.773991  114.209999  111.300003   \n",
      "2011-09-23  307242500.0        SPY     102.387196  114.160004  112.019997   \n",
      "2011-09-26  260673700.0        SPY     104.821978  116.400002  112.980003   \n",
      "2011-09-27  311753900.0        SPY     105.994284  119.559998  116.839996   \n",
      "2011-09-28  286696800.0        SPY     103.830030  118.489998  114.970001   \n",
      "\n",
      "             SPY_close    SPY_open  GOOGL_volume GOOGL_symbol  \\\n",
      "2011-09-22  112.860001  113.250000     8791700.0        GOOGL   \n",
      "2011-09-23  113.540001  112.110001     5549000.0        GOOGL   \n",
      "2011-09-26  116.239998  114.610001     5263100.0        GOOGL   \n",
      "2011-09-27  117.540001  118.529999     6015700.0        GOOGL   \n",
      "2011-09-28  115.139999  117.779999     4522000.0        GOOGL   \n",
      "\n",
      "            GOOGL_adj_close    ...      FB_low  FB_close  FB_open  \\\n",
      "2011-09-22       260.590580    ...         NaN       NaN      NaN   \n",
      "2011-09-23       263.018009    ...         NaN       NaN      NaN   \n",
      "2011-09-26       266.211216    ...         NaN       NaN      NaN   \n",
      "2011-09-27       269.939945    ...         NaN       NaN      NaN   \n",
      "2011-09-28       264.684696    ...         NaN       NaN      NaN   \n",
      "\n",
      "            MSFT_volume  MSFT_symbol MSFT_adj_close  MSFT_high   MSFT_low  \\\n",
      "2011-09-22   96278300.0         MSFT      21.798924  25.650000  24.600000   \n",
      "2011-09-23   64768100.0         MSFT      21.798924  25.150000  24.690001   \n",
      "2011-09-26   51057600.0         MSFT      22.129475  25.520000  24.730000   \n",
      "2011-09-27   55620700.0         MSFT      22.329545  25.920000  25.450001   \n",
      "2011-09-28   60736200.0         MSFT      22.251256  26.370001  25.510000   \n",
      "\n",
      "            MSFT_close  MSFT_open  \n",
      "2011-09-22   25.059999  25.299999  \n",
      "2011-09-23   25.059999  24.900000  \n",
      "2011-09-26   25.440001  25.190001  \n",
      "2011-09-27   25.670000  25.660000  \n",
      "2011-09-28   25.580000  25.930000  \n",
      "\n",
      "[5 rows x 42 columns]\n",
      "(1258, 42)\n"
     ]
    }
   ],
   "source": [
    "import os\n",
    "import pandas as pd\n",
    "\n",
    "def symbol_to_path(symbol,base_dir=\"stock\"):\n",
    "    return os.path.join(base_dir,\"{}.csv\".format(str(symbol)))\n",
    "\n",
    "def get_data(symbols,columns,start,end):\n",
    "    dates = pd.date_range(start,end)\n",
    "    df = pd.DataFrame(index=dates)\n",
    "    \n",
    "    for symbol in symbols:\n",
    "        df_temp = pd.read_csv(symbol_to_path(symbol),index_col='date',parse_dates=True,\n",
    "                              usecols=columns,na_values=['nan'])\n",
    "        for i in columns:\n",
    "            df_temp = df_temp.rename(columns={i:symbol+'_'+i})\n",
    "        df = df.join(df_temp)\n",
    "    \n",
    "    df = df.dropna(subset=['SPY_symbol'])\n",
    "    \n",
    "    return df\n",
    "            \n",
    "df = get_data(symbols=symbols,columns=columns,start=start,end=end)\n",
    "print df.head()\n",
    "print df.shape\n",
    "    "
   ]
  },
  {
   "cell_type": "markdown",
   "metadata": {
    "colab_type": "text",
    "id": "KQcL4uqISHjP"
   },
   "source": [
    "Take a look of the dataframe:"
   ]
  },
  {
   "cell_type": "code",
   "execution_count": 5,
   "metadata": {
    "cellView": "both",
    "colab": {
     "autoexec": {
      "startup": false,
      "wait_interval": 0
     },
     "output_extras": [
      {
       "item_id": 9
      }
     ]
    },
    "colab_type": "code",
    "collapsed": false,
    "executionInfo": {
     "elapsed": 57454,
     "status": "ok",
     "timestamp": 1449847994134,
     "user": {
      "color": "",
      "displayName": "",
      "isAnonymous": false,
      "isMe": true,
      "permissionId": "",
      "photoUrl": "",
      "sessionId": "0",
      "userId": ""
     },
     "user_tz": 480
    },
    "id": "z2cjdenH869W",
    "outputId": "4c037ba1-b526-4d8e-e632-91e2a0333267"
   },
   "outputs": [
    {
     "name": "stdout",
     "output_type": "stream",
     "text": [
      "Initialized\n",
      "Loss at step 0: 15.897280\n",
      "Training accuracy: 10.1%\n",
      "Validation accuracy: 12.6%\n",
      "Loss at step 100: 2.297131\n",
      "Training accuracy: 72.2%\n",
      "Validation accuracy: 70.6%\n",
      "Loss at step 200: 1.850722\n",
      "Training accuracy: 74.9%\n",
      "Validation accuracy: 72.6%\n",
      "Loss at step 300: 1.594598\n",
      "Training accuracy: 76.1%\n",
      "Validation accuracy: 73.6%\n",
      "Loss at step 400: 1.422940\n",
      "Training accuracy: 77.3%\n",
      "Validation accuracy: 74.2%\n",
      "Loss at step 500: 1.298927\n",
      "Training accuracy: 78.1%\n",
      "Validation accuracy: 74.5%\n",
      "Loss at step 600: 1.203677\n",
      "Training accuracy: 78.8%\n",
      "Validation accuracy: 74.7%\n",
      "Loss at step 700: 1.127500\n",
      "Training accuracy: 79.2%\n",
      "Validation accuracy: 74.8%\n",
      "Loss at step 800: 1.064721\n",
      "Training accuracy: 79.8%\n",
      "Validation accuracy: 75.0%\n",
      "Test accuracy: 82.1%\n"
     ]
    }
   ],
   "source": [
    "num_steps = 801\n",
    "\n",
    "def accuracy(predictions, labels):\n",
    "  return (100.0 * np.sum(np.argmax(predictions, 1) == np.argmax(labels, 1))\n",
    "          / predictions.shape[0])\n",
    "\n",
    "with tf.Session(graph=graph) as session:\n",
    "  # This is a one-time operation which ensures the parameters get initialized as\n",
    "  # we described in the graph: random weights for the matrix, zeros for the\n",
    "  # biases. \n",
    "  tf.initialize_all_variables().run()\n",
    "  print('Initialized')\n",
    "  for step in range(num_steps):\n",
    "    # Run the computations. We tell .run() that we want to run the optimizer,\n",
    "    # and get the loss value and the training predictions returned as numpy\n",
    "    # arrays.\n",
    "    _, l, predictions = session.run([optimizer, loss, train_prediction])\n",
    "    if (step % 100 == 0):\n",
    "      print('Loss at step %d: %f' % (step, l))\n",
    "      print('Training accuracy: %.1f%%' % accuracy(\n",
    "        predictions, train_labels[:train_subset, :]))\n",
    "      # Calling .eval() on valid_prediction is basically like calling run(), but\n",
    "      # just to get that one numpy array. Note that it recomputes all its graph\n",
    "      # dependencies.\n",
    "      print('Validation accuracy: %.1f%%' % accuracy(\n",
    "        valid_prediction.eval(), valid_labels))\n",
    "  print('Test accuracy: %.1f%%' % accuracy(test_prediction.eval(), test_labels))"
   ]
  },
  {
   "cell_type": "markdown",
   "metadata": {
    "colab_type": "text",
    "id": "x68f-hxRGm3H"
   },
   "source": [
    "Let's now switch to stochastic gradient descent training instead, which is much faster.\n",
    "\n",
    "The graph will be similar, except that instead of holding all the training data into a constant node, we create a `Placeholder` node which will be fed actual data at every call of `session.run()`."
   ]
  },
  {
   "cell_type": "code",
   "execution_count": 6,
   "metadata": {
    "cellView": "both",
    "colab": {
     "autoexec": {
      "startup": false,
      "wait_interval": 0
     }
    },
    "colab_type": "code",
    "collapsed": true,
    "id": "qhPMzWYRGrzM"
   },
   "outputs": [],
   "source": [
    "batch_size = 128\n",
    "\n",
    "graph = tf.Graph()\n",
    "with graph.as_default():\n",
    "\n",
    "  # Input data. For the training data, we use a placeholder that will be fed\n",
    "  # at run time with a training minibatch.\n",
    "  tf_train_dataset = tf.placeholder(tf.float32,\n",
    "                                    shape=(batch_size, image_size * image_size))\n",
    "  tf_train_labels = tf.placeholder(tf.float32, shape=(batch_size, num_labels))\n",
    "  tf_valid_dataset = tf.constant(valid_dataset)\n",
    "  tf_test_dataset = tf.constant(test_dataset)\n",
    "  \n",
    "  # Variables.\n",
    "  weights = tf.Variable(\n",
    "    tf.truncated_normal([image_size * image_size, num_labels]))\n",
    "  biases = tf.Variable(tf.zeros([num_labels]))\n",
    "  \n",
    "  # Training computation.\n",
    "  logits = tf.matmul(tf_train_dataset, weights) + biases\n",
    "  loss = tf.reduce_mean(\n",
    "    tf.nn.softmax_cross_entropy_with_logits(logits, tf_train_labels))\n",
    "  \n",
    "  # Optimizer.\n",
    "  optimizer = tf.train.GradientDescentOptimizer(0.5).minimize(loss)\n",
    "  \n",
    "  # Predictions for the training, validation, and test data.\n",
    "  train_prediction = tf.nn.softmax(logits)\n",
    "  valid_prediction = tf.nn.softmax(\n",
    "    tf.matmul(tf_valid_dataset, weights) + biases)\n",
    "  test_prediction = tf.nn.softmax(tf.matmul(tf_test_dataset, weights) + biases)"
   ]
  },
  {
   "cell_type": "markdown",
   "metadata": {
    "colab_type": "text",
    "id": "XmVZESmtG4JH"
   },
   "source": [
    "Let's run it:"
   ]
  },
  {
   "cell_type": "code",
   "execution_count": 7,
   "metadata": {
    "cellView": "both",
    "colab": {
     "autoexec": {
      "startup": false,
      "wait_interval": 0
     },
     "output_extras": [
      {
       "item_id": 6
      }
     ]
    },
    "colab_type": "code",
    "collapsed": false,
    "executionInfo": {
     "elapsed": 66292,
     "status": "ok",
     "timestamp": 1449848003013,
     "user": {
      "color": "",
      "displayName": "",
      "isAnonymous": false,
      "isMe": true,
      "permissionId": "",
      "photoUrl": "",
      "sessionId": "0",
      "userId": ""
     },
     "user_tz": 480
    },
    "id": "FoF91pknG_YW",
    "outputId": "d255c80e-954d-4183-ca1c-c7333ce91d0a"
   },
   "outputs": [
    {
     "name": "stdout",
     "output_type": "stream",
     "text": [
      "Initialized\n",
      "Minibatch loss at step 0: 17.714567\n",
      "Minibatch accuracy: 11.7%\n",
      "Validation accuracy: 11.8%\n",
      "Minibatch loss at step 500: 1.099879\n",
      "Minibatch accuracy: 80.5%\n",
      "Validation accuracy: 75.3%\n",
      "Minibatch loss at step 1000: 1.487191\n",
      "Minibatch accuracy: 80.5%\n",
      "Validation accuracy: 76.4%\n",
      "Minibatch loss at step 1500: 0.709410\n",
      "Minibatch accuracy: 79.7%\n",
      "Validation accuracy: 77.6%\n",
      "Minibatch loss at step 2000: 0.870362\n",
      "Minibatch accuracy: 82.0%\n",
      "Validation accuracy: 77.3%\n",
      "Minibatch loss at step 2500: 1.224014\n",
      "Minibatch accuracy: 72.7%\n",
      "Validation accuracy: 78.2%\n",
      "Minibatch loss at step 3000: 0.920802\n",
      "Minibatch accuracy: 78.9%\n",
      "Validation accuracy: 78.9%\n",
      "Test accuracy: 86.1%\n"
     ]
    }
   ],
   "source": [
    "num_steps = 3001\n",
    "\n",
    "with tf.Session(graph=graph) as session:\n",
    "  tf.initialize_all_variables().run()\n",
    "  print(\"Initialized\")\n",
    "  for step in range(num_steps):\n",
    "    # Pick an offset within the training data, which has been randomized.\n",
    "    # Note: we could use better randomization across epochs.\n",
    "    offset = (step * batch_size) % (train_labels.shape[0] - batch_size)\n",
    "    # Generate a minibatch.\n",
    "    batch_data = train_dataset[offset:(offset + batch_size), :]\n",
    "    batch_labels = train_labels[offset:(offset + batch_size), :]\n",
    "    # Prepare a dictionary telling the session where to feed the minibatch.\n",
    "    # The key of the dictionary is the placeholder node of the graph to be fed,\n",
    "    # and the value is the numpy array to feed to it.\n",
    "    feed_dict = {tf_train_dataset : batch_data, tf_train_labels : batch_labels}\n",
    "    _, l, predictions = session.run(\n",
    "      [optimizer, loss, train_prediction], feed_dict=feed_dict)\n",
    "    if (step % 500 == 0):\n",
    "      print(\"Minibatch loss at step %d: %f\" % (step, l))\n",
    "      print(\"Minibatch accuracy: %.1f%%\" % accuracy(predictions, batch_labels))\n",
    "      print(\"Validation accuracy: %.1f%%\" % accuracy(\n",
    "        valid_prediction.eval(), valid_labels))\n",
    "  print(\"Test accuracy: %.1f%%\" % accuracy(test_prediction.eval(), test_labels))"
   ]
  },
  {
   "cell_type": "markdown",
   "metadata": {
    "colab_type": "text",
    "id": "7omWxtvLLxik"
   },
   "source": [
    "---\n",
    "Problem\n",
    "-------\n",
    "\n",
    "Turn the logistic regression example with SGD into a 1-hidden layer neural network with rectified linear units [nn.relu()](https://www.tensorflow.org/versions/r0.7/api_docs/python/nn.html#relu) and 1024 hidden nodes. This model should improve your validation / test accuracy.\n",
    "\n",
    "---"
   ]
  }
 ],
 "metadata": {
  "colab": {
   "default_view": {},
   "name": "2_fullyconnected.ipynb",
   "provenance": [],
   "version": "0.3.2",
   "views": {}
  },
  "kernelspec": {
   "display_name": "Python 2",
   "language": "python",
   "name": "python2"
  },
  "language_info": {
   "codemirror_mode": {
    "name": "ipython",
    "version": 2
   },
   "file_extension": ".py",
   "mimetype": "text/x-python",
   "name": "python",
   "nbconvert_exporter": "python",
   "pygments_lexer": "ipython2",
   "version": "2.7.11"
  }
 },
 "nbformat": 4,
 "nbformat_minor": 0
}

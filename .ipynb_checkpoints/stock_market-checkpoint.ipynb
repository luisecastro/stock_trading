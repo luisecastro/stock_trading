{
 "cells": [
  {
   "cell_type": "markdown",
   "metadata": {
    "colab_type": "text",
    "id": "kR-4eNdK6lYS"
   },
   "source": [
    "Stock Market\n",
    "============="
   ]
  },
  {
   "cell_type": "markdown",
   "metadata": {
    "cellView": "both",
    "colab": {
     "autoexec": {
      "startup": false,
      "wait_interval": 0
     }
    },
    "colab_type": "code",
    "collapsed": true,
    "id": "JLpLa8Jt7Vu4"
   },
   "source": [
    "Step 1: Define a function to access Yahoo Finance API and extract the information for the stocks and dates requered, then store them as a csv file in the stock directory."
   ]
  },
  {
   "cell_type": "code",
   "execution_count": 7,
   "metadata": {
    "cellView": "both",
    "colab": {
     "autoexec": {
      "startup": false,
      "wait_interval": 0
     },
     "output_extras": [
      {
       "item_id": 1
      }
     ]
    },
    "colab_type": "code",
    "collapsed": false,
    "executionInfo": {
     "elapsed": 19456,
     "status": "ok",
     "timestamp": 1449847956073,
     "user": {
      "color": "",
      "displayName": "",
      "isAnonymous": false,
      "isMe": true,
      "permissionId": "",
      "photoUrl": "",
      "sessionId": "0",
      "userId": ""
     },
     "user_tz": 480
    },
    "id": "y3-cj1bpmuxc",
    "outputId": "0ddb1607-1fc4-4ddb-de28-6c7ab7fb0c33"
   },
   "outputs": [],
   "source": [
    "import yahoo_finance\n",
    "import csv\n",
    "\n",
    "columns = ['volume','symbol','adj_close','high','low','date','close','open']\n",
    "\n",
    "def stock_dl(symbol,start,end):\n",
    "    for j in symbol:\n",
    "        stock = yahoo_finance.Share(j)\n",
    "        history = stock.get_historical(start,end)\n",
    "\n",
    "        with open(\"stock/{}.csv\".format(j), \"w\") as toWrite:\n",
    "            writer = csv.writer(toWrite,delimiter=\",\")\n",
    "            writer.writerow(columns)\n",
    "            for i in history:\n",
    "                temp = []\n",
    "                for a in i.keys():\n",
    "                    temp.append(i[a])\n",
    "                writer.writerow(temp)"
   ]
  },
  {
   "cell_type": "markdown",
   "metadata": {
    "colab_type": "text",
    "id": "L7aHrm6nGDMB"
   },
   "source": [
    "Step 2: Run the previous function suplying the needed parameters. We will check major Tech companies and the SPY as baseline, use 5 years of data."
   ]
  },
  {
   "cell_type": "code",
   "execution_count": 8,
   "metadata": {
    "cellView": "both",
    "colab": {
     "autoexec": {
      "startup": false,
      "wait_interval": 0
     },
     "output_extras": [
      {
       "item_id": 1
      }
     ]
    },
    "colab_type": "code",
    "collapsed": false,
    "executionInfo": {
     "elapsed": 19723,
     "status": "ok",
     "timestamp": 1449847956364,
     "user": {
      "color": "",
      "displayName": "",
      "isAnonymous": false,
      "isMe": true,
      "permissionId": "",
      "photoUrl": "",
      "sessionId": "0",
      "userId": ""
     },
     "user_tz": 480
    },
    "id": "IRSyYiIIGIzS",
    "outputId": "2ba0fc75-1487-4ace-a562-cf81cae82793"
   },
   "outputs": [],
   "source": [
    "symbols = ['SPY','GOOGL','AAPL','TSLA','FB','MSFT']\n",
    "start = '2011-09-22'\n",
    "end = '2016-09-22'\n",
    "\n",
    "stock_dl(symbol=symbols,start=start,end=end)"
   ]
  },
  {
   "cell_type": "markdown",
   "metadata": {
    "colab_type": "text",
    "id": "nCLVqyQ5vPPH"
   },
   "source": [
    "Step 3: Read csv files and store as pandas data frames, select subsets of data if needed."
   ]
  },
  {
   "cell_type": "code",
   "execution_count": 19,
   "metadata": {
    "cellView": "both",
    "colab": {
     "autoexec": {
      "startup": false,
      "wait_interval": 0
     }
    },
    "colab_type": "code",
    "collapsed": false,
    "id": "Nfv39qvtvOl_"
   },
   "outputs": [
    {
     "name": "stdout",
     "output_type": "stream",
     "text": [
      "             SPY_volume SPY_symbol  SPY_adj_close    SPY_high     SPY_low  \\\n",
      "2011-09-22  513911300.0        SPY     101.773991  114.209999  111.300003   \n",
      "2011-09-23  307242500.0        SPY     102.387196  114.160004  112.019997   \n",
      "2011-09-26  260673700.0        SPY     104.821978  116.400002  112.980003   \n",
      "2011-09-27  311753900.0        SPY     105.994284  119.559998  116.839996   \n",
      "2011-09-28  286696800.0        SPY     103.830030  118.489998  114.970001   \n",
      "\n",
      "             SPY_close    SPY_open  GOOGL_volume GOOGL_symbol  \\\n",
      "2011-09-22  112.860001  113.250000     8791700.0        GOOGL   \n",
      "2011-09-23  113.540001  112.110001     5549000.0        GOOGL   \n",
      "2011-09-26  116.239998  114.610001     5263100.0        GOOGL   \n",
      "2011-09-27  117.540001  118.529999     6015700.0        GOOGL   \n",
      "2011-09-28  115.139999  117.779999     4522000.0        GOOGL   \n",
      "\n",
      "            GOOGL_adj_close    ...      FB_low  FB_close  FB_open  \\\n",
      "2011-09-22       260.590580    ...         NaN       NaN      NaN   \n",
      "2011-09-23       263.018009    ...         NaN       NaN      NaN   \n",
      "2011-09-26       266.211216    ...         NaN       NaN      NaN   \n",
      "2011-09-27       269.939945    ...         NaN       NaN      NaN   \n",
      "2011-09-28       264.684696    ...         NaN       NaN      NaN   \n",
      "\n",
      "            MSFT_volume  MSFT_symbol MSFT_adj_close  MSFT_high   MSFT_low  \\\n",
      "2011-09-22   96278300.0         MSFT      21.798924  25.650000  24.600000   \n",
      "2011-09-23   64768100.0         MSFT      21.798924  25.150000  24.690001   \n",
      "2011-09-26   51057600.0         MSFT      22.129475  25.520000  24.730000   \n",
      "2011-09-27   55620700.0         MSFT      22.329545  25.920000  25.450001   \n",
      "2011-09-28   60736200.0         MSFT      22.251256  26.370001  25.510000   \n",
      "\n",
      "            MSFT_close  MSFT_open  \n",
      "2011-09-22   25.059999  25.299999  \n",
      "2011-09-23   25.059999  24.900000  \n",
      "2011-09-26   25.440001  25.190001  \n",
      "2011-09-27   25.670000  25.660000  \n",
      "2011-09-28   25.580000  25.930000  \n",
      "\n",
      "[5 rows x 42 columns]\n",
      "(1258, 42)\n"
     ]
    }
   ],
   "source": [
    "import os\n",
    "import pandas as pd\n",
    "\n",
    "def symbol_to_path(symbol,base_dir=\"stock\"):\n",
    "    return os.path.join(base_dir,\"{}.csv\".format(str(symbol)))\n",
    "\n",
    "def get_data(symbols,columns,start,end):\n",
    "    dates = pd.date_range(start,end)\n",
    "    df = pd.DataFrame(index=dates)\n",
    "    \n",
    "    for symbol in symbols:\n",
    "        df_temp = pd.read_csv(symbol_to_path(symbol),index_col='date',parse_dates=True,\n",
    "                              usecols=columns,na_values=['nan'])\n",
    "        for i in columns:\n",
    "            df_temp = df_temp.rename(columns={i:symbol+'_'+i})\n",
    "        df = df.join(df_temp)\n",
    "    \n",
    "    df = df.dropna(subset=['SPY_symbol'])\n",
    "    \n",
    "    return df\n",
    "            \n",
    "df = get_data(symbols=symbols,columns=columns,start=start,end=end)\n",
    "print df.head()\n",
    "print df.shape\n",
    "    "
   ]
  }
 ],
 "metadata": {
  "colab": {
   "default_view": {},
   "name": "2_fullyconnected.ipynb",
   "provenance": [],
   "version": "0.3.2",
   "views": {}
  },
  "kernelspec": {
   "display_name": "Python 2",
   "language": "python",
   "name": "python2"
  },
  "language_info": {
   "codemirror_mode": {
    "name": "ipython",
    "version": 2
   },
   "file_extension": ".py",
   "mimetype": "text/x-python",
   "name": "python",
   "nbconvert_exporter": "python",
   "pygments_lexer": "ipython2",
   "version": "2.7.11"
  }
 },
 "nbformat": 4,
 "nbformat_minor": 0
}
